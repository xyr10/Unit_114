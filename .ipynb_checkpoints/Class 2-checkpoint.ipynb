{
 "cells": [
  {
   "cell_type": "markdown",
   "id": "e0f7e0ed",
   "metadata": {},
   "source": []
  },
  {
   "cell_type": "code",
   "execution_count": 1,
   "id": "6dd01699",
   "metadata": {},
   "outputs": [],
   "source": [
    "# Simplified Stack implementation\n",
    "\n",
    "class Stack:\n",
    "    def __init__(self):\n",
    "        self.items = []\n",
    "        \n",
    "    def push(self, element):\n",
    "        self.items.append(element)\n",
    "        \n",
    "    def pop(self):\n",
    "        return self.items.pop()\n",
    "    \n",
    "    # nice to have methods\n",
    "    def size(self):\n",
    "        return len(self.items)\n",
    "    \n",
    "    def peek(self):\n",
    "        return self.items[len(self.items)-1]\n",
    "    \n",
    "    def is_empty(self):\n",
    "        return self.items == []\n",
    "    "
   ]
  },
  {
   "cell_type": "code",
   "execution_count": 2,
   "id": "255b5502",
   "metadata": {},
   "outputs": [],
   "source": [
    "# 1, 2, 3, 4, 5\n",
    "# feed these sequentially into a stack\n",
    "# then, immediately, retrieve all of them via pop\n",
    "# you will get back, 5, 4, 3, 2, 1"
   ]
  },
  {
   "cell_type": "code",
   "execution_count": 3,
   "id": "561e253b",
   "metadata": {},
   "outputs": [
    {
     "ename": "SyntaxError",
     "evalue": "invalid syntax (644184443.py, line 2)",
     "output_type": "error",
     "traceback": [
      "\u001b[0;36m  Cell \u001b[0;32mIn[3], line 2\u001b[0;36m\u001b[0m\n\u001b[0;31m    Create a function that uses a stack (our stack class above) to invert a string.\u001b[0m\n\u001b[0m           ^\u001b[0m\n\u001b[0;31mSyntaxError\u001b[0m\u001b[0;31m:\u001b[0m invalid syntax\n"
     ]
    }
   ],
   "source": [
    "# Mini Challenge 1\n",
    "Create a function that uses a stack (our stack class above) to invert a string.\n",
    "\n",
    "Your function must be called `invert_str` and receive a single string as a parameter, then return that string in inverted order. \n",
    "\n",
    "```\n",
    "Examples:\n",
    "rafael -> leafar\n",
    "rats -> star\n",
    "cars -> srac\n",
    "etc\n",
    "```"
   ]
  },
  {
   "cell_type": "code",
   "execution_count": 4,
   "id": "51e23fd6",
   "metadata": {},
   "outputs": [],
   "source": [
    "# Assessment\n",
    "# We can assume the following (have to ask the interviewer the questions first):\n",
    "# spaces would be in the string\n",
    "# characters are not necessarily alphanumeric\n",
    "# can be an infinite length\n",
    "\n",
    "# Assembly\n",
    "# define the invert_str with any given named parameter (we used mystr as the named parameter) \n",
    "# define the object \n",
    "# Push in each of the characters of the string into the \"Stack\"\n",
    "# Return each of the characters of the string in an inverted fashion using pop function\n",
    "# use the init definition to add in the string using the pop function\n",
    "# go to the isempty\n",
    "# return the elements in the inverted order\n",
    "\n",
    "# Action\n"
   ]
  },
  {
   "cell_type": "code",
   "execution_count": 9,
   "id": "f40c1f28",
   "metadata": {},
   "outputs": [
    {
     "data": {
      "text/plain": [
       "'enoryx'"
      ]
     },
     "execution_count": 9,
     "metadata": {},
     "output_type": "execute_result"
    }
   ],
   "source": [
    "def invert_str(mystr):\n",
    "    stack = Stack()\n",
    "    out = \"\"\n",
    "    for char in mystr:\n",
    "        stack.push(char)\n",
    "    while not stack.is_empty():\n",
    "        out += stack.pop()\n",
    "    return out\n",
    "    \n",
    "invert_str(\"xyrone\")"
   ]
  },
  {
   "cell_type": "code",
   "execution_count": 11,
   "id": "e1b2364c",
   "metadata": {},
   "outputs": [
    {
     "name": "stdout",
     "output_type": "stream",
     "text": [
      "5\n"
     ]
    }
   ],
   "source": [
    "# Examples of pass by value\n",
    "# Note: primary data types pass by value in python\n",
    "# Integers, float and booleans.\n",
    "x = 5\n",
    "y = x\n",
    "\n",
    "y += 1\n",
    "\n",
    "print(x)"
   ]
  },
  {
   "cell_type": "code",
   "execution_count": 15,
   "id": "cddc1fdc",
   "metadata": {},
   "outputs": [
    {
     "name": "stdout",
     "output_type": "stream",
     "text": [
      "[1, 2, 3, 4]\n"
     ]
    }
   ],
   "source": [
    "# Example of pass by reference\n",
    "# Note: Every other data type in Python passes by reference\n",
    "x = [1, 2, 3]\n",
    "y = x\n",
    "\n",
    "y.append(4)\n",
    "\n",
    "print(x)"
   ]
  },
  {
   "cell_type": "code",
   "execution_count": 16,
   "id": "6e08a98a",
   "metadata": {},
   "outputs": [],
   "source": [
    "# Implementation that does not depend on built-in data structures\n"
   ]
  },
  {
   "cell_type": "code",
   "execution_count": 23,
   "id": "a9a9662c",
   "metadata": {},
   "outputs": [],
   "source": [
    "class Stack:\n",
    "    class __Node:\n",
    "        def __init__(self, data):\n",
    "            self.data = data\n",
    "            self.below = None\n",
    "    def __init__(self):\n",
    "        self.top = None\n",
    "        \n",
    "    def push(self, element):\n",
    "        new_node = self.__Node(element)\n",
    "        if not self.top:\n",
    "            self.top = new_node\n",
    "        else:\n",
    "            new_node.below = self.top \n",
    "            self.top = new_node\n",
    "            \n",
    "    def pop(self):\n",
    "        if self.top:\n",
    "            element = self.top.data\n",
    "            self.top = self.top.below\n",
    "            return element\n",
    "        raise IndexError(\"Empty stack\")\n",
    "        \n",
    "    def is_empty(self):\n",
    "        return self.top == None\n",
    "    \n",
    "    def __str__(self):\n",
    "        out = \"\"\n",
    "        current = self.top\n",
    "        while current:\n",
    "            out += \"|   %s\\t |\\n\" % current.data\n",
    "            current = current.below\n",
    "        out += \" ____\\t\"\n",
    "        return out\n",
    "        \n",
    "    # Three more methods:\n",
    "    \n",
    "    def size(self):\n",
    "        # should return the total amount of elements in our stack\n",
    "        pass\n",
    "    \n",
    "    def peek(self):\n",
    "        # this should return the value or element at the top, without removing the (top) node\n",
    "        pass\n",
    "    \n",
    "    def search(self, element):\n",
    "        # This should return True if the element is somewhere in the stack, False otherwise\n",
    "        pass\n",
    "    "
   ]
  },
  {
   "cell_type": "code",
   "execution_count": 21,
   "id": "4b6a4173",
   "metadata": {},
   "outputs": [],
   "source": [
    "# Assembly:\n",
    "# define the invert_str with any given named parameter (we used mystr as the named parameter) \n",
    "# define the object named \"Stack\"\n",
    "# Create an empty object as the other instance\n",
    "# Determine the initial state of the stack (e.g., empty vs one element vs more than one element)\n",
    "# define the size to determine  \n",
    "# define a peek function to see what the value is at the top of the stack \n",
    "# define a size function to determine how many elements are in the stack\n",
    "# Create a pop loop if the stack is not empty\n",
    "\n",
    "def invert_str(mystr):\n",
    "    stack = Stack()\n",
    "    out = \"\"\n",
    "    for char in mystr:\n",
    "        stack.push(char)\n",
    "    while not stack.is_empty():\n",
    "        out += stack.pop()\n",
    "    return out\n",
    "\n",
    "def size(self):\n",
    "    \n",
    "    \n",
    "invert_str(\"xyrone\")\n"
   ]
  },
  {
   "cell_type": "code",
   "execution_count": 24,
   "id": "ab365a5b",
   "metadata": {},
   "outputs": [
    {
     "name": "stdout",
     "output_type": "stream",
     "text": [
      "|   10\t |\n",
      "|   9\t |\n",
      "|   8\t |\n",
      "|   7\t |\n",
      "|   6\t |\n",
      "|   5\t |\n",
      "|   4\t |\n",
      "|   3\t |\n",
      "|   2\t |\n",
      "|   1\t |\n",
      " ____\t\n"
     ]
    }
   ],
   "source": [
    "mynewstack = Stack()\n",
    "\n",
    "for number in range(1, 11):\n",
    "    mynewstack.push(number)\n",
    "    \n",
    "print(mynewstack)\n"
   ]
  },
  {
   "cell_type": "code",
   "execution_count": null,
   "id": "0bfad694",
   "metadata": {},
   "outputs": [],
   "source": [
    "# Simplified implementation of queue relying on built-in data structures (list)\n",
    "\n",
    "class Queue:\n",
    "    def __init__(self):\n",
    "        self.items = []\n",
    "        \n",
    "    def enqueue(self, element):\n",
    "        self.items.insert(0, element)\n",
    "        \n",
    "    def dequeue(self):\n",
    "        return self.items.pop()\n",
    "    \n",
    "    # nice to have methods:\n",
    "    \n",
    "    def size(self):\n",
    "        return len(self.items)\n",
    "    \n",
    "    def peek(self):\n",
    "        return self.items[len(self.items)-1]\n",
    "    \n",
    "    def is_empty(self):\n",
    "        return self.items == []"
   ]
  }
 ],
 "metadata": {
  "kernelspec": {
   "display_name": "Python 3 (ipykernel)",
   "language": "python",
   "name": "python3"
  },
  "language_info": {
   "codemirror_mode": {
    "name": "ipython",
    "version": 3
   },
   "file_extension": ".py",
   "mimetype": "text/x-python",
   "name": "python",
   "nbconvert_exporter": "python",
   "pygments_lexer": "ipython3",
   "version": "3.10.6"
  }
 },
 "nbformat": 4,
 "nbformat_minor": 5
}
