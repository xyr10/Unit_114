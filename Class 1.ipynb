{
 "cells": [
  {
   "cell_type": "markdown",
   "id": "24b01c4e",
   "metadata": {},
   "source": [
    "for letter in \"hello, world\":\n",
    "    print(letter)"
   ]
  },
  {
   "cell_type": "markdown",
   "id": "a9b2b646",
   "metadata": {},
   "source": [
    "# Anagram checker\n",
    "\n",
    "Given two strings, create a function that determines if these are anagrams of each other. \n",
    "Your function should return `true` if these are anagrams of each other, `False` if otherwise.\n",
    "\n",
    "*Criteria*\n",
    "1. Two strings are anagrams of each other if, and only if:\n",
    "1.1. They use all the same letters the same amount of times.\n",
    "1.2. They are exactly the same length.\n",
    "2. Your function should be called `anagram_check` and must receive two parameters (strings).\n",
    "\n",
    "```\n",
    "Examples:\n",
    "    heart and earth\n",
    "    cars and scar\n",
    "    star and rats\n",
    "```"
   ]
  },
  {
   "cell_type": "code",
   "execution_count": 2,
   "id": "28ac1318",
   "metadata": {},
   "outputs": [],
   "source": [
    "# Create the function called \"anagram_checker\"\n",
    "# Create two variables for each of the strings\n",
    "# Filter the strings by converting them based on the assumptions (e.g., lower case)\n",
    "# Create if-then statements to determine follow on conditions:\n",
    "# Determine if they are the same length, then contine on, else don't move forward\n",
    "# Determine how many characters are in each string. Consider the frequency of characters.\n",
    "# At the end, create a return function only when the conditions are met. This will be \"True\""
   ]
  },
  {
   "cell_type": "code",
   "execution_count": 4,
   "id": "28b29ff8",
   "metadata": {},
   "outputs": [],
   "source": [
    "# A frowned upon solution\n",
    "\n",
    "def anagram_check(str1, str2):\n",
    "    return sorted(str1) == sorted(str2)"
   ]
  },
  {
   "cell_type": "code",
   "execution_count": null,
   "id": "6d4b98db",
   "metadata": {},
   "outputs": [],
   "source": []
  }
 ],
 "metadata": {
  "kernelspec": {
   "display_name": "Python 3 (ipykernel)",
   "language": "python",
   "name": "python3"
  },
  "language_info": {
   "codemirror_mode": {
    "name": "ipython",
    "version": 3
   },
   "file_extension": ".py",
   "mimetype": "text/x-python",
   "name": "python",
   "nbconvert_exporter": "python",
   "pygments_lexer": "ipython3",
   "version": "3.10.6"
  }
 },
 "nbformat": 4,
 "nbformat_minor": 5
}
